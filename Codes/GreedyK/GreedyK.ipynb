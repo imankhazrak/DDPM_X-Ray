{
 "cells": [
  {
   "cell_type": "code",
   "execution_count": 1,
   "id": "3eb215c5-13a9-4c53-b439-c5eed5da98a0",
   "metadata": {},
   "outputs": [],
   "source": [
    "from torchvision import models, transforms\n",
    "\n",
    "import os\n",
    "from PIL import Image\n",
    "import numpy as np\n",
    "import torch\n",
    "from torch.utils.data import Dataset, DataLoader\n",
    "import torchvision.transforms as transforms\n",
    "from sklearn.metrics import pairwise_distances\n"
   ]
  },
  {
   "cell_type": "code",
   "execution_count": 2,
   "id": "fdaa6536-801f-48ae-8208-824cc728608a",
   "metadata": {
    "tags": []
   },
   "outputs": [
    {
     "name": "stderr",
     "output_type": "stream",
     "text": [
      "/users/PCS0218/nonlinearity114/.conda/envs/Torch/lib/python3.10/site-packages/torchvision/models/_utils.py:208: UserWarning: The parameter 'pretrained' is deprecated since 0.13 and may be removed in the future, please use 'weights' instead.\n",
      "  warnings.warn(\n",
      "/users/PCS0218/nonlinearity114/.conda/envs/Torch/lib/python3.10/site-packages/torchvision/models/_utils.py:223: UserWarning: Arguments other than a weight enum or `None` for 'weights' are deprecated since 0.13 and may be removed in the future. The current behavior is equivalent to passing `weights=ResNet18_Weights.IMAGENET1K_V1`. You can also use `weights=ResNet18_Weights.DEFAULT` to get the most up-to-date weights.\n",
      "  warnings.warn(msg)\n"
     ]
    },
    {
     "data": {
      "text/plain": [
       "Sequential(\n",
       "  (0): Conv2d(3, 64, kernel_size=(7, 7), stride=(2, 2), padding=(3, 3), bias=False)\n",
       "  (1): BatchNorm2d(64, eps=1e-05, momentum=0.1, affine=True, track_running_stats=True)\n",
       "  (2): ReLU(inplace=True)\n",
       "  (3): MaxPool2d(kernel_size=3, stride=2, padding=1, dilation=1, ceil_mode=False)\n",
       "  (4): Sequential(\n",
       "    (0): BasicBlock(\n",
       "      (conv1): Conv2d(64, 64, kernel_size=(3, 3), stride=(1, 1), padding=(1, 1), bias=False)\n",
       "      (bn1): BatchNorm2d(64, eps=1e-05, momentum=0.1, affine=True, track_running_stats=True)\n",
       "      (relu): ReLU(inplace=True)\n",
       "      (conv2): Conv2d(64, 64, kernel_size=(3, 3), stride=(1, 1), padding=(1, 1), bias=False)\n",
       "      (bn2): BatchNorm2d(64, eps=1e-05, momentum=0.1, affine=True, track_running_stats=True)\n",
       "    )\n",
       "    (1): BasicBlock(\n",
       "      (conv1): Conv2d(64, 64, kernel_size=(3, 3), stride=(1, 1), padding=(1, 1), bias=False)\n",
       "      (bn1): BatchNorm2d(64, eps=1e-05, momentum=0.1, affine=True, track_running_stats=True)\n",
       "      (relu): ReLU(inplace=True)\n",
       "      (conv2): Conv2d(64, 64, kernel_size=(3, 3), stride=(1, 1), padding=(1, 1), bias=False)\n",
       "      (bn2): BatchNorm2d(64, eps=1e-05, momentum=0.1, affine=True, track_running_stats=True)\n",
       "    )\n",
       "  )\n",
       "  (5): Sequential(\n",
       "    (0): BasicBlock(\n",
       "      (conv1): Conv2d(64, 128, kernel_size=(3, 3), stride=(2, 2), padding=(1, 1), bias=False)\n",
       "      (bn1): BatchNorm2d(128, eps=1e-05, momentum=0.1, affine=True, track_running_stats=True)\n",
       "      (relu): ReLU(inplace=True)\n",
       "      (conv2): Conv2d(128, 128, kernel_size=(3, 3), stride=(1, 1), padding=(1, 1), bias=False)\n",
       "      (bn2): BatchNorm2d(128, eps=1e-05, momentum=0.1, affine=True, track_running_stats=True)\n",
       "      (downsample): Sequential(\n",
       "        (0): Conv2d(64, 128, kernel_size=(1, 1), stride=(2, 2), bias=False)\n",
       "        (1): BatchNorm2d(128, eps=1e-05, momentum=0.1, affine=True, track_running_stats=True)\n",
       "      )\n",
       "    )\n",
       "    (1): BasicBlock(\n",
       "      (conv1): Conv2d(128, 128, kernel_size=(3, 3), stride=(1, 1), padding=(1, 1), bias=False)\n",
       "      (bn1): BatchNorm2d(128, eps=1e-05, momentum=0.1, affine=True, track_running_stats=True)\n",
       "      (relu): ReLU(inplace=True)\n",
       "      (conv2): Conv2d(128, 128, kernel_size=(3, 3), stride=(1, 1), padding=(1, 1), bias=False)\n",
       "      (bn2): BatchNorm2d(128, eps=1e-05, momentum=0.1, affine=True, track_running_stats=True)\n",
       "    )\n",
       "  )\n",
       "  (6): Sequential(\n",
       "    (0): BasicBlock(\n",
       "      (conv1): Conv2d(128, 256, kernel_size=(3, 3), stride=(2, 2), padding=(1, 1), bias=False)\n",
       "      (bn1): BatchNorm2d(256, eps=1e-05, momentum=0.1, affine=True, track_running_stats=True)\n",
       "      (relu): ReLU(inplace=True)\n",
       "      (conv2): Conv2d(256, 256, kernel_size=(3, 3), stride=(1, 1), padding=(1, 1), bias=False)\n",
       "      (bn2): BatchNorm2d(256, eps=1e-05, momentum=0.1, affine=True, track_running_stats=True)\n",
       "      (downsample): Sequential(\n",
       "        (0): Conv2d(128, 256, kernel_size=(1, 1), stride=(2, 2), bias=False)\n",
       "        (1): BatchNorm2d(256, eps=1e-05, momentum=0.1, affine=True, track_running_stats=True)\n",
       "      )\n",
       "    )\n",
       "    (1): BasicBlock(\n",
       "      (conv1): Conv2d(256, 256, kernel_size=(3, 3), stride=(1, 1), padding=(1, 1), bias=False)\n",
       "      (bn1): BatchNorm2d(256, eps=1e-05, momentum=0.1, affine=True, track_running_stats=True)\n",
       "      (relu): ReLU(inplace=True)\n",
       "      (conv2): Conv2d(256, 256, kernel_size=(3, 3), stride=(1, 1), padding=(1, 1), bias=False)\n",
       "      (bn2): BatchNorm2d(256, eps=1e-05, momentum=0.1, affine=True, track_running_stats=True)\n",
       "    )\n",
       "  )\n",
       "  (7): Sequential(\n",
       "    (0): BasicBlock(\n",
       "      (conv1): Conv2d(256, 512, kernel_size=(3, 3), stride=(2, 2), padding=(1, 1), bias=False)\n",
       "      (bn1): BatchNorm2d(512, eps=1e-05, momentum=0.1, affine=True, track_running_stats=True)\n",
       "      (relu): ReLU(inplace=True)\n",
       "      (conv2): Conv2d(512, 512, kernel_size=(3, 3), stride=(1, 1), padding=(1, 1), bias=False)\n",
       "      (bn2): BatchNorm2d(512, eps=1e-05, momentum=0.1, affine=True, track_running_stats=True)\n",
       "      (downsample): Sequential(\n",
       "        (0): Conv2d(256, 512, kernel_size=(1, 1), stride=(2, 2), bias=False)\n",
       "        (1): BatchNorm2d(512, eps=1e-05, momentum=0.1, affine=True, track_running_stats=True)\n",
       "      )\n",
       "    )\n",
       "    (1): BasicBlock(\n",
       "      (conv1): Conv2d(512, 512, kernel_size=(3, 3), stride=(1, 1), padding=(1, 1), bias=False)\n",
       "      (bn1): BatchNorm2d(512, eps=1e-05, momentum=0.1, affine=True, track_running_stats=True)\n",
       "      (relu): ReLU(inplace=True)\n",
       "      (conv2): Conv2d(512, 512, kernel_size=(3, 3), stride=(1, 1), padding=(1, 1), bias=False)\n",
       "      (bn2): BatchNorm2d(512, eps=1e-05, momentum=0.1, affine=True, track_running_stats=True)\n",
       "    )\n",
       "  )\n",
       "  (8): AdaptiveAvgPool2d(output_size=(1, 1))\n",
       ")"
      ]
     },
     "execution_count": 2,
     "metadata": {},
     "output_type": "execute_result"
    }
   ],
   "source": [
    "# Load a pre-trained model (e.g., ResNet18)\n",
    "model = models.resnet18(pretrained=True)\n",
    "model = torch.nn.Sequential(*list(model.children())[:-1])  # Remove the final classification layer\n",
    "model.eval()"
   ]
  },
  {
   "cell_type": "code",
   "execution_count": 3,
   "id": "de0325ba-083a-41b5-90b5-c532f8aedf8e",
   "metadata": {},
   "outputs": [],
   "source": [
    "class ImageDataset(Dataset):\n",
    "    def __init__(self, image_paths, transform=None):\n",
    "        self.image_paths = image_paths\n",
    "        self.transform = transform\n",
    "    \n",
    "    def __len__(self):\n",
    "        return len(self.image_paths)\n",
    "    \n",
    "    def __getitem__(self, idx):\n",
    "        image = Image.open(self.image_paths[idx]).convert('RGB')\n",
    "        if self.transform:\n",
    "            image = self.transform(image)\n",
    "        return image\n"
   ]
  },
  {
   "cell_type": "code",
   "execution_count": 4,
   "id": "3bf204b3-a6c1-4ac3-b5fa-8e9a08f8e847",
   "metadata": {},
   "outputs": [],
   "source": [
    "# Transform for input images\n",
    "transform = transforms.Compose([\n",
    "    transforms.Resize((224, 224)),\n",
    "    transforms.ToTensor(),\n",
    "    transforms.Normalize(mean=[0.485, 0.456, 0.406], std=[0.229, 0.224, 0.225]),\n",
    "])\n"
   ]
  },
  {
   "cell_type": "code",
   "execution_count": 5,
   "id": "72402cf4-5bda-449b-ba03-bb7f4f16fec7",
   "metadata": {},
   "outputs": [],
   "source": [
    "def calculate_diversity(features, selected_indices):\n",
    "    \"\"\"\n",
    "    Calculate the diversity of the selected subset of features.\n",
    "\n",
    "    Parameters:\n",
    "    features (numpy.ndarray): Feature vectors of all images.\n",
    "    selected_indices (list of int): Indices of the selected images.\n",
    "\n",
    "    Returns:\n",
    "    float: Average pairwise distance of the selected subset.\n",
    "    \"\"\"\n",
    "    # Extract features of the selected images\n",
    "    selected_features = features[selected_indices]\n",
    "    \n",
    "    # Compute pairwise distances between selected features\n",
    "    distances = pairwise_distances(selected_features)\n",
    "    \n",
    "    # Calculate average pairwise distance (excluding the diagonal)\n",
    "    avg_distance = np.mean(distances[np.triu_indices(len(distances), k=1)])\n",
    "    \n",
    "    return avg_distance\n"
   ]
  },
  {
   "cell_type": "code",
   "execution_count": 6,
   "id": "4d912c6b-a414-4fa5-90c4-d41528b007f1",
   "metadata": {},
   "outputs": [],
   "source": [
    "def K_greedy(model,folder_path, seed):\n",
    "    image_paths = [os.path.join(folder_path, file) for file in os.listdir(folder_path) if file.endswith(('.png', '.jpg', '.jpeg', '.tiff', '.bmp', '.gif'))]\n",
    "    image_files = [file for file in os.listdir(folder_path) if file.endswith(('.png', '.jpg', '.jpeg', '.tiff', '.bmp', '.gif'))]\n",
    "    dataset = ImageDataset(image_paths, transform=transform)\n",
    "    dataloader = DataLoader(dataset, batch_size=32, shuffle=False)\n",
    "    \n",
    "        # Extract features\n",
    "    features = []\n",
    "    with torch.no_grad():\n",
    "        for images in dataloader:\n",
    "            feature = model(images).squeeze()\n",
    "            features.append(feature.cpu().numpy())\n",
    "    features = np.vstack(features)\n",
    "    #K-Greedy\n",
    "    np.random.seed(seed) \n",
    "    \n",
    "    selected_indices = [np.random.choice(len(features))]\n",
    "    distances = pairwise_distances(features, features[selected_indices])\n",
    "\n",
    "    for _ in range(199):  # We already have 1 selected, so we need 199 more\n",
    "        min_distances = np.min(distances, axis=1)\n",
    "        next_index = np.argmax(min_distances)\n",
    "        selected_indices.append(next_index)\n",
    "        distances = np.minimum(distances, pairwise_distances(features, features[[next_index]]))\n",
    "\n",
    "    # The selected_indices now contains the indices of the 200 most informative images\n",
    "    selected_images = [image_files[i] for i in selected_indices]\n",
    "    avg_dist=calculate_diversity(features, selected_indices)\n",
    "    \n",
    "  \n",
    "    return avg_dist, selected_indices, selected_images\n",
    "\n",
    "    "
   ]
  },
  {
   "cell_type": "code",
   "execution_count": 15,
   "id": "ccf81d0a-b8ca-4a26-b880-9e480e07bc9b",
   "metadata": {},
   "outputs": [],
   "source": [
    "def Random_select(model,folder_path, seed):\n",
    "    image_paths = [os.path.join(folder_path, file) for file in os.listdir(folder_path) if file.endswith(('.png', '.jpg', '.jpeg', '.tiff', '.bmp', '.gif'))]\n",
    "    image_files = [file for file in os.listdir(folder_path) if file.endswith(('.png', '.jpg', '.jpeg', '.tiff', '.bmp', '.gif'))]\n",
    "    dataset = ImageDataset(image_paths, transform=transform)\n",
    "    dataloader = DataLoader(dataset, batch_size=32, shuffle=False)\n",
    "    \n",
    "        # Extract features\n",
    "    features = []\n",
    "    with torch.no_grad():\n",
    "        for images in dataloader:\n",
    "            feature = model(images).squeeze()\n",
    "            features.append(feature.cpu().numpy())\n",
    "    features = np.vstack(features)\n",
    "    \n",
    "    np.random.seed(seed) \n",
    "    num_samples=200\n",
    "    selected_indices = np.random.choice(np.arange(len(features)), size=num_samples, replace=False)    \n",
    "    # The selected_indices now contains the indices of the 200 most informative images\n",
    "    \n",
    "    avg_dist=calculate_diversity(features, selected_indices)\n",
    "      \n",
    "    return avg_dist\n"
   ]
  },
  {
   "cell_type": "code",
   "execution_count": 16,
   "id": "5eedb3cb-f645-4ef4-9b6d-d1eaf8006c86",
   "metadata": {},
   "outputs": [],
   "source": [
    "\n",
    "# Define the folder path all normal\n",
    "folder_path_all_norm = '/users/PCS0218/nonlinearity114/CS7200_SP2024_Project_G01/Notebooks/Data/All/NORMAL'\n",
    "\n",
    "#normal_all=K_greedy(model, folder_path_all_norm,42)\n",
    "\n"
   ]
  },
  {
   "cell_type": "code",
   "execution_count": 11,
   "id": "023cd235-5373-4c14-9a2e-12d8a4199e98",
   "metadata": {},
   "outputs": [
    {
     "data": {
      "text/plain": [
       "18.793316"
      ]
     },
     "execution_count": 11,
     "metadata": {},
     "output_type": "execute_result"
    }
   ],
   "source": [
    "normal_all[0]"
   ]
  },
  {
   "cell_type": "code",
   "execution_count": 17,
   "id": "b26d4816-aaee-4bb8-850e-b8aa39d92c73",
   "metadata": {},
   "outputs": [
    {
     "name": "stdout",
     "output_type": "stream",
     "text": [
      "round 0\n",
      "round 1\n",
      "round 2\n",
      "round 3\n",
      "round 4\n"
     ]
    }
   ],
   "source": [
    "dist_K=[]\n",
    "dist_rand=[]\n",
    "for i in range(5):\n",
    "    print('round', i)\n",
    "    d=K_greedy(model,folder_path_all_norm, i)\n",
    "    r=Random_select(model,folder_path_all_norm, i )\n",
    "    \n",
    "    dist_K.append(d[0])\n",
    "    dist_rand.append(r)"
   ]
  },
  {
   "cell_type": "code",
   "execution_count": 19,
   "id": "fba8b14c-48ef-4957-9df4-c716180b53b5",
   "metadata": {},
   "outputs": [
    {
     "data": {
      "text/plain": [
       "[18.784498, 18.798502, 18.873312, 18.797476, 18.806515]"
      ]
     },
     "execution_count": 19,
     "metadata": {},
     "output_type": "execute_result"
    }
   ],
   "source": [
    "dist_K"
   ]
  },
  {
   "cell_type": "code",
   "execution_count": 20,
   "id": "a685aa3e-bfd3-4728-9183-a566d08601db",
   "metadata": {},
   "outputs": [
    {
     "data": {
      "text/plain": [
       "[15.780817, 15.855055, 16.060263, 15.734768, 15.721038]"
      ]
     },
     "execution_count": 20,
     "metadata": {},
     "output_type": "execute_result"
    }
   ],
   "source": [
    "dist_rand"
   ]
  },
  {
   "cell_type": "code",
   "execution_count": 22,
   "id": "36eddaa0-af32-4aa8-af0b-6625ba485a8f",
   "metadata": {},
   "outputs": [],
   "source": [
    "from scipy import stats\n"
   ]
  },
  {
   "cell_type": "code",
   "execution_count": 23,
   "id": "80a07db8-4194-4082-bc75-734ef49572c6",
   "metadata": {},
   "outputs": [
    {
     "name": "stdout",
     "output_type": "stream",
     "text": [
      "T-statistic: 46.580831897414555\n",
      "P-value: 4.986617015625793e-11\n"
     ]
    }
   ],
   "source": [
    "t_statistic, p_value = stats.ttest_ind(dist_K, dist_rand)\n",
    "\n",
    "print(f\"T-statistic: {t_statistic}\")\n",
    "print(f\"P-value: {p_value}\")"
   ]
  },
  {
   "cell_type": "markdown",
   "id": "004cab67-a23a-4b58-9d82-1cc485af9170",
   "metadata": {},
   "source": [
    "# Select for Pneumonia Class"
   ]
  },
  {
   "cell_type": "code",
   "execution_count": 14,
   "id": "3ace0544-3171-46a2-9ce8-52ca73a52312",
   "metadata": {},
   "outputs": [],
   "source": [
    "folder_path = '/users/PCS0218/nonlinearity114/CS7200_SP2024_Project_G01/Notebooks/Data/All/PNEUMONIA'\n",
    "\n",
    "# Get a list of all image file paths\n",
    "image_paths = [os.path.join(folder_path, file) for file in os.listdir(folder_path) if file.endswith(('.png', '.jpg', '.jpeg', '.tiff', '.bmp', '.gif'))]\n",
    "image_files = [file for file in os.listdir(folder_path) if file.endswith(('.png', '.jpg', '.jpeg', '.tiff', '.bmp', '.gif'))]\n",
    "dataset = ImageDataset(image_paths, transform=transform)\n",
    "dataloader = DataLoader(dataset, batch_size=32, shuffle=False)\n",
    "\n",
    "# Extract features\n",
    "features = []\n",
    "with torch.no_grad():\n",
    "    for images in dataloader:\n",
    "        feature = model(images).squeeze()\n",
    "        features.append(feature.cpu().numpy())\n",
    "features = np.vstack(features)"
   ]
  },
  {
   "cell_type": "code",
   "execution_count": 15,
   "id": "8a59ba30-3281-4017-b804-fcf1f627b50d",
   "metadata": {},
   "outputs": [],
   "source": [
    "# K-Center Greedy\n",
    "np.random.seed(42) \n",
    "selected_indices = [np.random.choice(len(features))]\n",
    "distances = pairwise_distances(features, features[selected_indices])\n",
    "\n",
    "for _ in range(199):  # We already have 1 selected, so we need 199 more\n",
    "    min_distances = np.min(distances, axis=1)\n",
    "    next_index = np.argmax(min_distances)\n",
    "    selected_indices.append(next_index)\n",
    "    distances = np.minimum(distances, pairwise_distances(features, features[[next_index]]))\n",
    "\n",
    "# The selected_indices now contains the indices of the 200 most informative images\n",
    "selected_images_pneum = [image_files[i] for i in selected_indices]\n"
   ]
  },
  {
   "cell_type": "code",
   "execution_count": 16,
   "id": "24218ade-72bc-40f1-9a8f-35a4e6e7fa93",
   "metadata": {},
   "outputs": [],
   "source": [
    "features_pneum=features\n",
    "selected_indices_pneum=selected_indices"
   ]
  },
  {
   "cell_type": "code",
   "execution_count": 17,
   "id": "7af64fad-5868-4941-8078-9ce28692f137",
   "metadata": {
    "tags": []
   },
   "outputs": [],
   "source": [
    "import csv\n",
    "# Write the filenames to a CSV file\n",
    "with open('selected_images_pneum.csv', 'w', newline='') as csvfile:\n",
    "    writer = csv.writer(csvfile)\n",
    "    for filename in selected_images_pneum:\n",
    "        writer.writerow([filename])"
   ]
  },
  {
   "cell_type": "code",
   "execution_count": 18,
   "id": "12dde640-d05a-40b6-806f-a314a5bf4bb6",
   "metadata": {},
   "outputs": [
    {
     "data": {
      "text/plain": [
       "19.582682"
      ]
     },
     "execution_count": 18,
     "metadata": {},
     "output_type": "execute_result"
    }
   ],
   "source": [
    "calculate_diversity(features_pneum,selected_indices)"
   ]
  },
  {
   "cell_type": "markdown",
   "id": "44230776-0b1f-4013-9409-d40fcde72f42",
   "metadata": {},
   "source": [
    "# When selected Randomly"
   ]
  },
  {
   "cell_type": "markdown",
   "id": "f35b34f7-625a-4e11-b455-ebbca59f8884",
   "metadata": {},
   "source": [
    "## NORMAL  class"
   ]
  },
  {
   "cell_type": "code",
   "execution_count": 19,
   "id": "0347f50b-b985-47a5-b2f7-9a5639266425",
   "metadata": {},
   "outputs": [],
   "source": [
    "folder_path = '/users/PCS0218/nonlinearity114/CS7200_SP2024_Project_G01/Notebooks/Data/Original/NORMAL/NORMAL'\n",
    "\n",
    "# Get a list of all image file paths\n",
    "image_paths = [os.path.join(folder_path, file) for file in os.listdir(folder_path) if file.endswith(('.png', '.jpg', '.jpeg', '.tiff', '.bmp', '.gif'))]\n",
    "image_files = [file for file in os.listdir(folder_path) if file.endswith(('.png', '.jpg', '.jpeg', '.tiff', '.bmp', '.gif'))]\n",
    "dataset = ImageDataset(image_paths, transform=transform)\n",
    "dataloader = DataLoader(dataset, batch_size=32, shuffle=False)"
   ]
  },
  {
   "cell_type": "code",
   "execution_count": 20,
   "id": "26a978e8-67ff-45de-ad2a-dc63cf775724",
   "metadata": {},
   "outputs": [],
   "source": [
    "# Extract features\n",
    "features = []\n",
    "with torch.no_grad():\n",
    "    for images in dataloader:\n",
    "        feature = model(images).squeeze()\n",
    "        features.append(feature.cpu().numpy())\n",
    "features = np.vstack(features)\n"
   ]
  },
  {
   "cell_type": "code",
   "execution_count": 23,
   "id": "a3ec5198-75b8-49ed-92f0-c56b57bc9497",
   "metadata": {},
   "outputs": [],
   "source": [
    "features_norm_random=features"
   ]
  },
  {
   "cell_type": "code",
   "execution_count": 24,
   "id": "4f3e5b65-1b3e-4856-92a7-80c7b957ef2f",
   "metadata": {},
   "outputs": [
    {
     "data": {
      "text/plain": [
       "15.817717"
      ]
     },
     "execution_count": 24,
     "metadata": {},
     "output_type": "execute_result"
    }
   ],
   "source": [
    "calculate_diversity(features_norm_random,np.arange(200))"
   ]
  },
  {
   "cell_type": "code",
   "execution_count": null,
   "id": "e5a09252-bba4-45b3-8f87-76dab38cf6bb",
   "metadata": {},
   "outputs": [],
   "source": []
  },
  {
   "cell_type": "code",
   "execution_count": 25,
   "id": "8ad0f928-78a6-4053-9034-60bb26a2530c",
   "metadata": {},
   "outputs": [],
   "source": [
    "folder_path = '/users/PCS0218/nonlinearity114/CS7200_SP2024_Project_G01/Notebooks/Data/Original/PNEUMONIA/PNEUMONIA'\n",
    "\n",
    "# Get a list of all image file paths\n",
    "image_paths = [os.path.join(folder_path, file) for file in os.listdir(folder_path) if file.endswith(('.png', '.jpg', '.jpeg', '.tiff', '.bmp', '.gif'))]\n",
    "image_files = [file for file in os.listdir(folder_path) if file.endswith(('.png', '.jpg', '.jpeg', '.tiff', '.bmp', '.gif'))]\n",
    "dataset = ImageDataset(image_paths, transform=transform)\n",
    "dataloader = DataLoader(dataset, batch_size=32, shuffle=False)"
   ]
  },
  {
   "cell_type": "code",
   "execution_count": 26,
   "id": "5a509f2b-7e7e-4b8b-bdb4-b383ac61eb58",
   "metadata": {},
   "outputs": [],
   "source": [
    "# Extract features\n",
    "features = []\n",
    "with torch.no_grad():\n",
    "    for images in dataloader:\n",
    "        feature = model(images).squeeze()\n",
    "        features.append(feature.cpu().numpy())\n",
    "features = np.vstack(features)"
   ]
  },
  {
   "cell_type": "code",
   "execution_count": 27,
   "id": "a4053f73-ed7f-4ece-b3b5-17a71a32fb8c",
   "metadata": {},
   "outputs": [],
   "source": [
    "features_pneum_random=features"
   ]
  },
  {
   "cell_type": "code",
   "execution_count": 28,
   "id": "8d383980-e88b-429e-a805-447b3725fe42",
   "metadata": {},
   "outputs": [
    {
     "data": {
      "text/plain": [
       "16.757645"
      ]
     },
     "execution_count": 28,
     "metadata": {},
     "output_type": "execute_result"
    }
   ],
   "source": [
    "calculate_diversity(features_pneum_random,np.arange(200))"
   ]
  },
  {
   "cell_type": "code",
   "execution_count": null,
   "id": "6f42615a-6a6d-42a6-b361-46fc1ed550f8",
   "metadata": {},
   "outputs": [],
   "source": []
  }
 ],
 "metadata": {
  "kernelspec": {
   "display_name": "Torch [Torch]",
   "language": "python",
   "name": "conda_torch"
  },
  "language_info": {
   "codemirror_mode": {
    "name": "ipython",
    "version": 3
   },
   "file_extension": ".py",
   "mimetype": "text/x-python",
   "name": "python",
   "nbconvert_exporter": "python",
   "pygments_lexer": "ipython3",
   "version": "3.10.13"
  }
 },
 "nbformat": 4,
 "nbformat_minor": 5
}
